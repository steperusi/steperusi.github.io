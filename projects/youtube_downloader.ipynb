{
 "cells": [
  {
   "cell_type": "code",
   "execution_count": 1,
   "id": "a52a7c2d",
   "metadata": {},
   "outputs": [],
   "source": [
    "from pytube import YouTube\n",
    "import tkinter as tk\n",
    "from tkinter import filedialog"
   ]
  },
  {
   "cell_type": "code",
   "execution_count": 4,
   "id": "72e93b6c",
   "metadata": {},
   "outputs": [],
   "source": [
    "def download_video(url, save_path):\n",
    "    try:\n",
    "        yt = YouTube(url)\n",
    "        streams = yt.streams.filter(progressive=True, file_extension='mp4')\n",
    "        highest_res_stream = streams.get_highest_resolution()\n",
    "        highest_res_stream.download(output_path=save_path)\n",
    "        print('Video downloaded successfully!')\n",
    "    except Exception as e:\n",
    "        print(e)"
   ]
  },
  {
   "cell_type": "code",
   "execution_count": 5,
   "id": "d6e13148",
   "metadata": {},
   "outputs": [
    {
     "name": "stdout",
     "output_type": "stream",
     "text": [
      "Enter a YouTube url: https://youtu.be/vW2HWHYd_jg?si=KkcNnXTX5ViDToR3\n",
      "Started download...\n",
      "Video downloaded successfully!\n"
     ]
    }
   ],
   "source": [
    "video_url = input('Enter a YouTube url: ')\n",
    "\n",
    "folder = 'Downloads'\n",
    "\n",
    "print('Started download...')\n",
    "download_video(video_url, folder)"
   ]
  },
  {
   "cell_type": "code",
   "execution_count": null,
   "id": "3bdda0e1",
   "metadata": {},
   "outputs": [],
   "source": []
  }
 ],
 "metadata": {
  "kernelspec": {
   "display_name": "Python 3 (ipykernel)",
   "language": "python",
   "name": "python3"
  },
  "language_info": {
   "codemirror_mode": {
    "name": "ipython",
    "version": 3
   },
   "file_extension": ".py",
   "mimetype": "text/x-python",
   "name": "python",
   "nbconvert_exporter": "python",
   "pygments_lexer": "ipython3",
   "version": "3.11.4"
  }
 },
 "nbformat": 4,
 "nbformat_minor": 5
}
