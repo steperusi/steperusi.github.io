{
 "cells": [
  {
   "cell_type": "code",
   "execution_count": 1,
   "id": "d8df4c58",
   "metadata": {},
   "outputs": [],
   "source": [
    "import requests\n",
    "from sys import argv"
   ]
  },
  {
   "cell_type": "code",
   "execution_count": 2,
   "id": "cf33bd31",
   "metadata": {},
   "outputs": [],
   "source": [
    "url = 'https://newsapi.org/v2/top-headlines?'\n",
    "api_key = 'cec0b4abb43a41df894786ba20477304'"
   ]
  },
  {
   "cell_type": "code",
   "execution_count": 3,
   "id": "e3db3bf4",
   "metadata": {},
   "outputs": [],
   "source": [
    "def get_articles_by_category(category):\n",
    "    query_parameters = {'category' : category,\n",
    "                       'sortBy' : 'top',\n",
    "                       'country' : 'it',\n",
    "                       'apiKey' : api_key,\n",
    "                       'pageSize' : 10}\n",
    "    return _get_articles(query_parameters)"
   ]
  },
  {
   "cell_type": "code",
   "execution_count": 4,
   "id": "c6063819",
   "metadata": {},
   "outputs": [],
   "source": [
    "def get_articles_by_query(query):\n",
    "    query_parameters = {'q' : query,\n",
    "                       'sortBy' : 'top',\n",
    "                       'country' : 'it',\n",
    "                       'apiKey' : api_key,\n",
    "                       'pageSize' : 10}\n",
    "    return _get_articles(query_parameters)"
   ]
  },
  {
   "cell_type": "code",
   "execution_count": 5,
   "id": "bf50252b",
   "metadata": {},
   "outputs": [],
   "source": [
    "def _get_articles(params):\n",
    "    response = requests.get(url, params=params)\n",
    "    articles = response.json()['articles']\n",
    "    \n",
    "    results = []\n",
    "    \n",
    "    for article in articles:\n",
    "        results.append({'title':article['title'], 'url':article['url']})\n",
    "        \n",
    "    for result in results:\n",
    "        print(result['title'])\n",
    "        print(result['url'])"
   ]
  },
  {
   "cell_type": "code",
   "execution_count": 6,
   "id": "800b9b47",
   "metadata": {},
   "outputs": [],
   "source": [
    "def get_sources_by_category(category):\n",
    "    url = 'https://newsapi.org/v2/top-headlines/sources'\n",
    "    \n",
    "    query_parameters = {'category': category,\n",
    "                        'apiKey': api_key,\n",
    "                       'pageSize' : 10}\n",
    "\n",
    "    response = requests.get(url, params=query_parameters)\n",
    "    sources = response.json()['sources']\n",
    "\n",
    "    for source in sources:\n",
    "        print(source['name'])\n",
    "        print(source['url'])"
   ]
  },
  {
   "cell_type": "code",
   "execution_count": 7,
   "id": "dafa5094",
   "metadata": {},
   "outputs": [
    {
     "name": "stdout",
     "output_type": "stream",
     "text": [
      "Getting news for -f...\n",
      "\n",
      "Successfully retrieved top -f headlines\n"
     ]
    }
   ],
   "source": [
    "if __name__ == '__main__':\n",
    "    print(f'Getting news for {argv[1]}...\\n')\n",
    "    get_articles_by_category(argv[1])\n",
    "    print(f'Successfully retrieved top {argv[1]} headlines')"
   ]
  },
  {
   "cell_type": "code",
   "execution_count": 8,
   "id": "459089d3",
   "metadata": {},
   "outputs": [
    {
     "name": "stdout",
     "output_type": "stream",
     "text": [
      "Digit the number of the operation you want to execute:\n",
      "1) Get articles by category\n",
      "2) Get articles by query\n",
      "3) Get sources by category\n",
      "1\n",
      "What argument do you want to search? technology\n",
      "L'UE ordina: app come WhatsApp devono essere interoperabili. Per le app minori potrebbe essere una mezza fregatura - DDay.it\n",
      "https://news.google.com/rss/articles/CBMijwFodHRwczovL2RkYXkuaXQvcmVkYXppb25lLzQ4NDAwL2x1ZS1vcmRpbmEtYXBwLWNvbWUtd2hhdHNhcHAtZGV2b25vLWVzc2VyZS1pbnRlcm9wZXJhYmlsaS1wZXItbGUtYXBwLW1pbm9yaS1wb3RyZWJiZS1lc3NlcmUtdW5hLW1lenphLWZyZWdhdHVyYdIBAA?oc=5\n",
      "Guerra Ucraina - Russia, le news di oggi. Missili russi verso la Polonia, decollano gli F-16. Zelensky: creeremo ramo militare dedicato ai droni. Mosca: colpite fabbriche di armamenti in Ucraina - la Repubblica\n",
      "https://news.google.com/rss/articles/CBMiXmh0dHBzOi8vd3d3LnJlcHViYmxpY2EuaXQvZXN0ZXJpLzIwMjQvMDIvMDcvZGlyZXR0YS9ndWVycmFfdWNyYWluYV9ydXNzaWFfbmV3c19vZ2dpLTQyMjA3NDIxMC_SAQA?oc=5\n",
      "Smartphone caduto in acqua: lo puoi salvare con 5 semplici passaggi - Cityrumors Abruzzo\n",
      "https://news.google.com/rss/articles/CBMibGh0dHBzOi8vd3d3LmNpdHlydW1vcnMuaXQvdGVjbm9sb2dpYS9zbWFydHBob25lLWNhZHV0by1pbi1hY3F1YS1sby1wdW9pLXNhbHZhcmUtY29uLTUtc2VtcGxpY2ktcGFzc2FnZ2kuaHRtbNIBAA?oc=5\n",
      "Dungeonborne, il dungeon crawler a estrazione per chi vuole essere messo alla prova - Multiplayer.it\n",
      "https://news.google.com/rss/articles/CBMiTGh0dHBzOi8vbXVsdGlwbGF5ZXIuaXQvYXJ0aWNvbGkvZHVuZ2VvbmJvcm5lLWR1bmdlb24tY3Jhd2xlci1lc3RyYXppb25lLmh0bWzSAQA?oc=5\n",
      "Gli hacker stanno lanciando due nuovi attacchi | I vostri dispositivi sono in grave pericolo, ecco cosa si rischia - Player.it\n",
      "https://news.google.com/rss/articles/CBMiS2h0dHBzOi8vd3d3LnBsYXllci5pdC9mdW9yaWdpb2NvLzU1MDk0NS1udW92YS1zdHJhdGVnaWEtYXR0YWNjby1oYWNrZXIuaHRtbNIBAA?oc=5\n",
      "Google Maps porta il meteo su Android - HDblog\n",
      "https://news.google.com/rss/articles/CBMiSGh0dHBzOi8vd3d3LmhkYmxvZy5pdC9nb29nbGUvYXJ0aWNvbGkvbjU3ODE1NS9nb29nbGUtbWFwcy1tZXRlby1hbmRyb2lkL9IBAA?oc=5\n",
      "Nintendo Switch 2? Shuntaro Furukawa non commenta i rumor, ma fa due precisazioni - Multiplayer.it\n",
      "https://news.google.com/rss/articles/CBMicWh0dHBzOi8vbXVsdGlwbGF5ZXIuaXQvbm90aXppZS9uaW50ZW5kby1zd2l0Y2gtMi1zaHVudGFyby1mdXJ1a2F3YS1ub24tY29tbWVudGEtcnVtb3ItbWEtZmEtZHVlLXByZWNpc2F6aW9uaS5odG1s0gEA?oc=5\n",
      "Recensione Realme C67, a 160 euro ci ha convinto! - HDblog\n",
      "https://news.google.com/rss/articles/CBMiYmh0dHBzOi8vd3d3LmhkYmxvZy5pdC9zbWFydHBob25lL3JlY2Vuc2lvbmkvbjU3ODE0NC9yZWFsbWUtYzY3LWNhcmF0dGVyaXN0aWNoZS1wcmV6em8tb2ZmZXJ0YS1pdGEv0gEA?oc=5\n",
      "Aggiornamento di Windows 11 in arrivo: cosa aspettarsi da Moment 5 - HDblog\n",
      "https://news.google.com/rss/articles/CBMiY2h0dHBzOi8vd3d3LmhkYmxvZy5pdC9taWNyb3NvZnQvYXJ0aWNvbGkvbjU3ODE0Ni9hZ2dpb3JuYW1lbnRvLXdpbmRvd3MtMTEtY29zYS1hc3BldHRhcnNpLW1vbWVudC01L9IBAA?oc=5\n",
      "Ayaneo Pocket S ufficiale: handheld da gioco con Android e Snapdragon G3x Gen2 - HDblog\n",
      "https://news.google.com/rss/articles/CBMiUmh0dHBzOi8vd3d3LmhkYmxvZy5pdC9hbmRyb2lkL2FydGljb2xpL241NzgxNDAvYXlhbmVvLXBvY2tldC1zLWFubnVuY2lvLXVmZmljaWFsZS_SAQA?oc=5\n"
     ]
    }
   ],
   "source": [
    "print(\"Digit the number of the operation you want to execute:\")\n",
    "print(\"1) Get articles by category\")\n",
    "print(\"2) Get articles by query\")\n",
    "print(\"3) Get sources by category\")\n",
    "\n",
    "operation = int(input())\n",
    "\n",
    "if operation == 1:\n",
    "    category = input('What argument do you want to search? ')\n",
    "    get_articles_by_category(category)\n",
    "elif operation == 2:\n",
    "    query = input('What argument do you want to search? ')\n",
    "    get_articles_by_query(query)\n",
    "elif operation == 3:\n",
    "    category = input('What category do you want to search? ')\n",
    "    get_sources_by_category(category)\n",
    "else:\n",
    "    print('Invalid input')"
   ]
  },
  {
   "cell_type": "code",
   "execution_count": null,
   "id": "38cfa362",
   "metadata": {},
   "outputs": [],
   "source": []
  }
 ],
 "metadata": {
  "kernelspec": {
   "display_name": "Python 3 (ipykernel)",
   "language": "python",
   "name": "python3"
  },
  "language_info": {
   "codemirror_mode": {
    "name": "ipython",
    "version": 3
   },
   "file_extension": ".py",
   "mimetype": "text/x-python",
   "name": "python",
   "nbconvert_exporter": "python",
   "pygments_lexer": "ipython3",
   "version": "3.11.4"
  }
 },
 "nbformat": 4,
 "nbformat_minor": 5
}
